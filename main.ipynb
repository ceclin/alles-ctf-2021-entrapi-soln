{
 "cells": [
  {
   "cell_type": "code",
   "execution_count": 1,
   "source": [
    "import pickle\r\n",
    "import functools\r\n",
    "import itertools\r\n",
    "from pathlib import Path\r\n",
    "from collections import Counter"
   ],
   "outputs": [],
   "metadata": {}
  },
  {
   "cell_type": "code",
   "execution_count": 2,
   "source": [
    "js = pickle.loads(Path(\"js.pickle\").read_bytes())\r\n"
   ],
   "outputs": [],
   "metadata": {}
  },
  {
   "cell_type": "code",
   "execution_count": 3,
   "source": [
    "len(set(js)) + js.count(-1) - 1"
   ],
   "outputs": [
    {
     "output_type": "execute_result",
     "data": {
      "text/plain": [
       "75"
      ]
     },
     "metadata": {},
     "execution_count": 3
    }
   ],
   "metadata": {}
  },
  {
   "cell_type": "code",
   "execution_count": 4,
   "source": [
    "js = [i if -1 == e else e for i, e in enumerate(js)]\r\n",
    "\r\n",
    "js = [\"\\n\" if 76 == e else e for e in js]\r\n",
    "js = [\"i\" if 0 == e else e for e in js]\r\n",
    "js = [\"m\" if 1 == e else e for e in js]\r\n",
    "js = [\"p\" if 2 == e else e for e in js]\r\n",
    "js = [\"o\" if 3 == e else e for e in js]\r\n",
    "js = [\"r\" if 4 == e else e for e in js]\r\n",
    "js = [\"t\" if 5 == e else e for e in js]\r\n",
    "js = [\" \" if 6 == e else e for e in js]\r\n",
    "js = [\"{\" if 7 == e else e for e in js]\r\n",
    "js = [\";\" if 75 == e else e for e in js]\r\n",
    "js = [\"f\" if 31 == e else e for e in js]\r\n",
    "js = [\"'\" if 36 == e else e for e in js]  # maybe double quote\r\n",
    "js = [\"h\" if 37 == e else e for e in js]\r\n",
    "js = [\"s\" if 41 == e else e for e in js]\r\n",
    "js = [\":\" if 42 == e else e for e in js]\r\n",
    "js = [\"/\" if 43 == e else e for e in js]\r\n",
    "js = [\".\" if 49 == e else e for e in js]\r\n",
    "js = [\"d\" if 45 == e else e for e in js]\r\n",
    "js = [\"e\" if 26 == e else e for e in js]\r\n",
    "js = [\"n\" if 19 == e else e for e in js]\r\n",
    "js = [\"l\" if 12 == e else e for e in js]\r\n",
    "js = [\"a\" if 15 == e else e for e in js]\r\n",
    "js = [\",\" if 20 == e else e for e in js]\r\n",
    "js = [\"x\" if 55 == e else e for e in js]\r\n",
    "js = [\"A\" if 9 == e else e for e in js]\r\n",
    "js = [\"c\" if 14 == e else e for e in js]\r\n",
    "js = [\"k\" if 59 == e else e for e in js]\r\n",
    "js = [\"@\" if 60 == e else e for e in js]\r\n",
    "js = [\"v\" if 61 == e else e for e in js]\r\n",
    "js = [\"R\" if 22 == e else e for e in js]\r\n",
    "js = [\"u\" if 24 == e else e for e in js]\r\n",
    "js = [\"}\" if 29 == e else e for e in js]\r\n",
    "js = [\"0\" if 66 == e else e for e in js]\r\n",
    "js = [\"y\" if 92 == e else e for e in js]\r\n",
    "js = [\"w\" if 97 == e else e for e in js]\r\n",
    "js = [\"b\" if 86 == e else e for e in js]\r\n",
    "js = [\"H\" if 167 == e else e for e in js]\r\n",
    "js = [\"=\" if 234 == e else e for e in js]\r\n",
    "js = [\"(\" if 251 == e else e for e in js]\r\n",
    "js = [\")\" if 252 == e else e for e in js]\r\n",
    "js = [\"g\" if 292 == e else e for e in js]\r\n",
    "js = [\">\" if 314 == e else e for e in js]\r\n",
    "js = [\"d\" if 346 == e else e for e in js]\r\n",
    "js = [\"T\" if 355 == e else e for e in js]\r\n",
    "js = [\"F\" if 359 == e else e for e in js]\r\n",
    "js = [\"q\" if 442 == e else e for e in js]\r\n",
    "js = [\"z\" if 468 == e else e for e in js]\r\n",
    "js = ['\"' if 460 == e else e for e in js]  # maybe single quote\r\n",
    "js = [\"|\" if 477 == e else e for e in js]\r\n",
    "js = [\"5\" if 64 == e else e for e in js]\r\n",
    "js = [\"!\" if 895 == e else e for e in js]\r\n",
    "js = [\"B\" if 911 == e else e for e in js]\r\n",
    "js = [\"j\" if 1022 == e else e for e in js]\r\n",
    "js = [\"s\" if 651 == e else e for e in js]\r\n",
    "js = [\"J\" if 1334 == e else e for e in js]\r\n",
    "js = [\"S\" if 651 == e else e for e in js]\r\n",
    "js = [\"O\" if 549 == e else e for e in js]\r\n",
    "js = [\"N\" if 548 == e else e for e in js]\r\n",
    "js = [\"-\" if 1361 == e else e for e in js]\r\n",
    "js = [\"M\" if 599 == e else e for e in js]\r\n",
    "js = [\"E\" if 551 == e else e for e in js]\r\n",
    "js = [\"L\" if 1470 == e else e for e in js]\r\n",
    "js = [\"`\" if 1571 == e else e for e in js]\r\n",
    "js = [\"$\" if 1572 == e else e for e in js]\r\n",
    "js = [\"1\" if 205 == e else e for e in js]\r\n",
    "js = [\"2\" if 674 == e else e for e in js]\r\n",
    "js = [\"4\" if 692 == e else e for e in js]\r\n",
    "js = [\"3\" if 689 == e else e for e in js]\r\n",
    "js = [\"+\" if 1562 == e else e for e in js]"
   ],
   "outputs": [],
   "metadata": {}
  },
  {
   "cell_type": "code",
   "execution_count": 5,
   "source": [
    "@functools.cache\r\n",
    "def sub_counter(n: int) -> Counter:\r\n",
    "    sub = []\r\n",
    "    for i in range(len(js) - n + 1):\r\n",
    "        sub.append(tuple(js[i : i + n]))\r\n",
    "    return Counter(sub)"
   ],
   "outputs": [],
   "metadata": {}
  },
  {
   "cell_type": "code",
   "execution_count": 6,
   "source": [
    "sub_counter(1).most_common(10)"
   ],
   "outputs": [
    {
     "output_type": "execute_result",
     "data": {
      "text/plain": [
       "[((' ',), 214),\n",
       " (('t',), 121),\n",
       " (('e',), 109),\n",
       " (('s',), 90),\n",
       " (('o',), 86),\n",
       " (('a',), 74),\n",
       " (('n',), 66),\n",
       " (('r',), 64),\n",
       " (('.',), 63),\n",
       " (('\\n',), 55)]"
      ]
     },
     "metadata": {},
     "execution_count": 6
    }
   ],
   "metadata": {}
  },
  {
   "cell_type": "code",
   "execution_count": 7,
   "source": [
    "# 132 676 is number\r\n",
    "# correct: e7552d9b7c9a01fad1c37e452af4ac95\r\n",
    "# 132 -> 7\r\n",
    "# 676 -> 9\r\n",
    "# auth: gibflag\r\n",
    "guess = js[670:702]\r\n",
    "for a, b in itertools.permutations(\"6789\", 2):\r\n",
    "    t = guess\r\n",
    "    t = [a if 132 == e else e for e in t]\r\n",
    "    t = [b if 676 == e else e for e in t]\r\n",
    "    print(\"\".join(t))"
   ],
   "outputs": [
    {
     "output_type": "stream",
     "name": "stdout",
     "text": [
      "e6552d7b6c7a01fad1c36e452af4ac75\n",
      "e6552d8b6c8a01fad1c36e452af4ac85\n",
      "e6552d9b6c9a01fad1c36e452af4ac95\n",
      "e7552d6b7c6a01fad1c37e452af4ac65\n",
      "e7552d8b7c8a01fad1c37e452af4ac85\n",
      "e7552d9b7c9a01fad1c37e452af4ac95\n",
      "e8552d6b8c6a01fad1c38e452af4ac65\n",
      "e8552d7b8c7a01fad1c38e452af4ac75\n",
      "e8552d9b8c9a01fad1c38e452af4ac95\n",
      "e9552d6b9c6a01fad1c39e452af4ac65\n",
      "e9552d7b9c7a01fad1c39e452af4ac75\n",
      "e9552d8b9c8a01fad1c39e452af4ac85\n"
     ]
    }
   ],
   "metadata": {}
  },
  {
   "cell_type": "code",
   "execution_count": 8,
   "source": [
    "recover = js\r\n",
    "recover = [\"7\" if 132 == e else e for e in recover]\r\n",
    "recover = [\"9\" if 676 == e else e for e in recover]\r\n",
    "recover = [e if isinstance(e, str) else \"\\uFFFD\" for e in recover]\r\n",
    "recover = \"\".join(recover)\r\n",
    "Path(\"main.js\").write_text(recover, encoding=\"utf-8\")\r\n"
   ],
   "outputs": [
    {
     "output_type": "execute_result",
     "data": {
      "text/plain": [
       "1660"
      ]
     },
     "metadata": {},
     "execution_count": 8
    }
   ],
   "metadata": {}
  }
 ],
 "metadata": {
  "orig_nbformat": 4,
  "language_info": {
   "name": "python",
   "version": "3.9.1",
   "mimetype": "text/x-python",
   "codemirror_mode": {
    "name": "ipython",
    "version": 3
   },
   "pygments_lexer": "ipython3",
   "nbconvert_exporter": "python",
   "file_extension": ".py"
  },
  "kernelspec": {
   "name": "python3",
   "display_name": "Python 3.9.1 64-bit"
  },
  "interpreter": {
   "hash": "b303fde40d1d5c20f725d09958527bdbd2b14706de6c1510fedece0d7680e672"
  }
 },
 "nbformat": 4,
 "nbformat_minor": 2
}